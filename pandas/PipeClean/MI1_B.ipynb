{
 "cells": [
  {
   "cell_type": "code",
   "execution_count": 5,
   "id": "e77cbeee-6edd-4a7e-9d97-f32a4cbc0d59",
   "metadata": {},
   "outputs": [],
   "source": [
    "import pandas as pd\n",
    "import numpy as np\n",
    "import seaborn\n",
    "from matplotlib import pyplot, font_manager\n",
    "from scipy.ndimage.filters import gaussian_filter1d\n",
    "\n",
    "MI1B_1 = pd.read_json(\"../Data/PipeClean/MI1_B/report1.json\")\n",
    "MI1B_2 = pd.read_json(\"../Data/PipeClean/MI1_B/report2.json\")\n",
    "MI1B_3 = pd.read_json(\"../Data/PipeClean/MI1_B/report3.json\")\n",
    "MI1B_4 = pd.read_json(\"../Data/PipeClean/MI1_B/report4.json\")\n",
    "MI1B_5 = pd.read_json(\"../Data/PipeClean/MI1_B/report5.json\")\n",
    "\n",
    "MIB = [MI1B_1, MI1B_2, MI1B_3, MI1B_4, MI1B_5]\n",
    "MIB = pd.concat(MIB, keys=[1, 2, 3, 4, 5])\n",
    "\n",
    "unused_columns = [\n",
    "    'timestamp', 'scenariosCreated', 'scenariosCompleted', 'scenarioDuration', 'scenarioCounts', 'codes', 'matches', 'customStats', 'pendingRequests'\n",
    "]\n",
    "    \n",
    "MIB = MIB.drop(columns=unused_columns)"
   ]
  },
  {
   "cell_type": "code",
   "execution_count": 6,
   "id": "355e509b-7c23-4cfc-b25a-97bef5f8e2f3",
   "metadata": {},
   "outputs": [],
   "source": [
    "# Conver the timestamps to a time series with 10 seconds steps.\n",
    "def get_time_series(dataframe: pd.DataFrame) -> pd.Series:\n",
    "    number_of_rows = len(dataframe.index)\n",
    "\n",
    "    return pd.Series(\n",
    "        name='time',\n",
    "        data=[element * 10 for element in range(number_of_rows)]\n",
    "    )\n",
    "\n",
    "time = get_time_series(MIB.loc[1])"
   ]
  },
  {
   "cell_type": "code",
   "execution_count": 7,
   "id": "ed5eba82-6b54-4871-bd78-0aa0d751b746",
   "metadata": {},
   "outputs": [],
   "source": [
    "# Create the latency dataframe.\n",
    "def get_latency_metrics(time: pd.Series, dataframe: pd.DataFrame) -> pd.DataFrame: \n",
    "    latencies = pd.DataFrame(data = [li for li in dataframe[\"latencies\"]])\n",
    "    mean_latencies = pd.Series(name=\"mean\", data = [(la.mean() / 1000000) for la in latencies.iloc])\n",
    "    \n",
    "    latency = pd.concat([time, dataframe['latency'], mean_latencies], axis=1)\n",
    "    latency = latency.set_index('time')\n",
    "    \n",
    "    for key, value in latency['latency'][0].items():\n",
    "        latency[key] = latency['latency'].apply(lambda object: object[key])\n",
    "  \n",
    "    latency = latency.drop(columns=['latency', 'p99'])\n",
    "    return latency[['mean', 'max', 'p95', 'median', 'min']] "
   ]
  },
  {
   "cell_type": "code",
   "execution_count": 10,
   "id": "7a173489-c019-4980-bd80-fddae1e7d920",
   "metadata": {},
   "outputs": [
    {
     "name": "stdout",
     "output_type": "stream",
     "text": [
      "      mean  max  p95  median  min\n",
      "time                             \n",
      "0      NaN  113  111      95   92\n",
      "10     NaN   97   95      95   92\n",
      "20     NaN   97   95      95   92\n",
      "30     NaN   97   95      95   92\n",
      "40     NaN   97   95      95   88\n",
      "...    ...  ...  ...     ...  ...\n",
      "560    NaN   97   95      95   92\n",
      "570    NaN   97   95      95   92\n",
      "580    NaN   97   95      95   92\n",
      "590    NaN  153  151      95   92\n",
      "600    NaN  101   99      99   96\n",
      "\n",
      "[61 rows x 5 columns]\n",
      "nan\n",
      "nan\n",
      "nan\n",
      "nan\n"
     ]
    }
   ],
   "source": [
    "latency1 = get_latency_metrics(time, MIB.loc[1])\n",
    "latency2 = get_latency_metrics(time, MIB.loc[2])\n",
    "latency3 = get_latency_metrics(time, MIB.loc[3])\n",
    "latency4 = get_latency_metrics(time, MIB.loc[4])\n",
    "latency5 = get_latency_metrics(time, MIB.loc[5])\n",
    "\n",
    "print(latency1)\n",
    "print(latency2['mean'].mean())\n",
    "print(latency3['mean'].mean())\n",
    "print(latency4['mean'].mean())\n",
    "print(latency5['mean'].mean())"
   ]
  },
  {
   "cell_type": "code",
   "execution_count": 9,
   "id": "72572d65-8042-4f94-a439-91977e8384f4",
   "metadata": {},
   "outputs": [
    {
     "data": {
      "text/plain": [
       "<matplotlib.legend.Legend at 0x7f1d8a05dc70>"
      ]
     },
     "execution_count": 9,
     "metadata": {},
     "output_type": "execute_result"
    },
    {
     "data": {
      "image/png": "[encoded data removed]",
      "text/plain": [
       "<Figure size 1440x576 with 1 Axes>"
      ]
     },
     "metadata": {
      "needs_background": "light"
     },
     "output_type": "display_data"
    }
   ],
   "source": [
    "figure, row = pyplot.subplots(\n",
    "    nrows=1,\n",
    "    ncols=1,\n",
    "    figsize=(20,8)\n",
    ")\n",
    "\n",
    "# Label settings\n",
    "\n",
    "figure.subplots_adjust(wspace=0.08) # hspace=0\n",
    "\n",
    "row.set_title('Report 1', y=1.1)\n",
    "\n",
    "row.set_ylabel('Antwortzeit (ms)', labelpad=35)\n",
    "\n",
    "row.set_xlabel('Zeit (s)', labelpad=30)\n",
    "\n",
    "# Actual plot.\n",
    "\n",
    "latency_plot = seaborn.lineplot(\n",
    "    ax=row,\n",
    "    dashes=False,\n",
    "    legend=False,\n",
    "    data=latency1,\n",
    ")\n",
    "\n",
    "#latency_plot.axes.set_yscale('log')\n",
    "\n",
    "# Grid settings.\n",
    "seaborn.despine(\n",
    "    left=True,\n",
    "    bottom=True\n",
    ")\n",
    "\n",
    "# Legend settings.\n",
    "latency_plot.legend(\n",
    "    loc=2,\n",
    "    frameon=False,\n",
    "    framealpha=1.0,\n",
    "    borderaxespad=0.0,\n",
    "    bbox_to_anchor=(1.02, 1),\n",
    "    labels=['Mean', 'Max', 'P95', 'Median', 'Min'],\n",
    ")"
   ]
  },
  {
   "cell_type": "code",
   "execution_count": null,
   "id": "3cf63a48-3c57-4bc3-947d-925053cf7038",
   "metadata": {},
   "outputs": [],
   "source": []
  }
 ],
 "metadata": {
  "kernelspec": {
   "display_name": "Python 3",
   "language": "python",
   "name": "python3"
  },
  "language_info": {
   "codemirror_mode": {
    "name": "ipython",
    "version": 3
   },
   "file_extension": ".py",
   "mimetype": "text/x-python",
   "name": "python",
   "nbconvert_exporter": "python",
   "pygments_lexer": "ipython3",
   "version": "3.8.8"
  }
 },
 "nbformat": 4,
 "nbformat_minor": 5
}
