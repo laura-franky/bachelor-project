{
 "cells": [
  {
   "cell_type": "code",
   "execution_count": null,
   "id": "a55c8420-c73e-4bd3-8076-954523686e83",
   "metadata": {},
   "outputs": [],
   "source": [
    "import pandas as pd\n",
    "import seaborn as sb\n",
    "\n",
    "from matplotlib import pyplot, font_manager\n",
    "from scipy.ndimage.filters import gaussian_filter1d"
   ]
  },
  {
   "cell_type": "code",
   "execution_count": null,
   "id": "b81292cd-a2c8-4b10-9eff-874b4145707a",
   "metadata": {},
   "outputs": [],
   "source": [
    "def get_error_codes(time: pd.Series, dataframe: pd.DataFrame) -> pd.DataFrame:\n",
    "    codes = pd.concat([time, dataframe[\"codes\"]], axis=1)\n",
    "    codes = codes.set_index(\"time\")\n",
    "\n",
    "    for key, value in codes['codes'][0].items():\n",
    "        codes[key] = codes['codes'].apply(lambda object: object[key])\n",
    "    \n",
    "    codes = codes.drop(columns=[\"codes\"])\n",
    "    return codes"
   ]
  }
 ],
 "metadata": {
  "kernelspec": {
   "display_name": "Python 3",
   "language": "python",
   "name": "python3"
  },
  "language_info": {
   "codemirror_mode": {
    "name": "ipython",
    "version": 3
   },
   "file_extension": ".py",
   "mimetype": "text/x-python",
   "name": "python",
   "nbconvert_exporter": "python",
   "pygments_lexer": "ipython3",
   "version": "3.8.8"
  }
 },
 "nbformat": 4,
 "nbformat_minor": 5
}
