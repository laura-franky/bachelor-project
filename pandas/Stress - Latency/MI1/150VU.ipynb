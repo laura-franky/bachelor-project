{
 "cells": [
  {
   "cell_type": "code",
   "execution_count": 1,
   "id": "50d8a680-f039-472c-ba01-02c8f7da8caf",
   "metadata": {},
   "outputs": [],
   "source": [
    "import pandas as pd\n",
    "import seaborn as sb\n",
    "\n",
    "from matplotlib import pyplot as plt\n",
    "from scipy.ndimage.filters import gaussian_filter1d"
   ]
  },
  {
   "cell_type": "code",
   "execution_count": 2,
   "id": "2e0449d2-221d-4f06-b2cd-c0a95e577af1",
   "metadata": {},
   "outputs": [],
   "source": [
    "A = pd.read_json(\"../Data/Stress/150VU/MI1/10W-150VU-stress-a-report4.json\")\n",
    "B = pd.read_json(\"../Data/Stress/150VU/MI1/10W-150VU-stress-b-report4.json\")\n",
    "C = pd.read_json(\"../Data/Stress/150VU/MI1/10W-150VU-stress-c-report2.json\")"
   ]
  },
  {
   "cell_type": "code",
   "execution_count": 3,
   "id": "d624f248-9f7e-4481-9a71-c6354cceb139",
   "metadata": {},
   "outputs": [],
   "source": [
    " def get_time_series(dataframe: pd.DataFrame) -> pd.Series:\n",
    "    number_of_rows = len(dataframe.index)\n",
    "\n",
    "    return pd.Series(\n",
    "        name='time',\n",
    "        data=[element * 10 for element in range(number_of_rows)]\n",
    "    )"
   ]
  }
 ],
 "metadata": {
  "kernelspec": {
   "display_name": "Python 3",
   "language": "python",
   "name": "python3"
  },
  "language_info": {
   "codemirror_mode": {
    "name": "ipython",
    "version": 3
   },
   "file_extension": ".py",
   "mimetype": "text/x-python",
   "name": "python",
   "nbconvert_exporter": "python",
   "pygments_lexer": "ipython3",
   "version": "3.8.8"
  }
 },
 "nbformat": 4,
 "nbformat_minor": 5
}
