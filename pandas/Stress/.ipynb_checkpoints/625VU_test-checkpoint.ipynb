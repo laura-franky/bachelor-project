{
 "cells": [
  {
   "cell_type": "code",
   "execution_count": 11,
   "id": "d037ab52-51bf-427d-bfa9-4cd5f9d25017",
   "metadata": {},
   "outputs": [
    {
     "name": "stdout",
     "output_type": "stream",
     "text": [
      "87274\n",
      "145182\n",
      "103080\n"
     ]
    }
   ],
   "source": [
    "import pandas as pd\n",
    "import numpy as np\n",
    "import seaborn\n",
    "from matplotlib import pyplot, font_manager\n",
    "from scipy.ndimage.filters import gaussian_filter1d\n",
    "\n",
    "MI2A = pd.read_json(\"../Data/Stress/625VU/report_A_1.json\")\n",
    "MI2B = pd.read_json(\"../Data/Stress/625VU/report_B_1.json\")\n",
    "MI2C = pd.read_json(\"../Data/Stress/625VU/report_C_1.json\")\n",
    "\n",
    "MI2 = [MI2A, MI2B, MI2C]\n",
    "MI2 = pd.concat(MI2, keys=[1, 2, 3])\n",
    "\n",
    "unused_columns = [\n",
    "    'timestamp', 'scenariosCreated', 'scenariosCompleted', 'scenarioDuration', 'scenarioCounts', 'codes', 'matches', 'customStats', 'counters', 'scenariosAvoided', 'pendingRequests'\n",
    "]\n",
    "    \n",
    "MI2 = MI2.drop(columns=unused_columns)\n",
    "print(MI2[\"requestsCompleted\"].loc[1].sum())\n",
    "print(MI2[\"requestsCompleted\"].loc[2].sum())\n",
    "print(MI2[\"requestsCompleted\"].loc[3].sum())"
   ]
  },
  {
   "cell_type": "code",
   "execution_count": 5,
   "id": "092f82cc-c4c3-4ca3-822f-a9dcfcf7b902",
   "metadata": {},
   "outputs": [],
   "source": [
    "# Conver the timestamps to a time series with 10 seconds steps.\n",
    "def get_time_series(dataframe: pd.DataFrame) -> pd.Series:\n",
    "    number_of_rows = len(dataframe.index)\n",
    "\n",
    "    return pd.Series(\n",
    "        name='time',\n",
    "        data=[element * 10 for element in range(number_of_rows)]\n",
    "    )\n",
    "\n",
    "time = get_time_series(MI2.loc[1])"
   ]
  },
  {
   "cell_type": "code",
   "execution_count": 6,
   "id": "012a7402-2ad8-4729-9461-003b86c8aa73",
   "metadata": {},
   "outputs": [],
   "source": [
    "# Create the latency dataframe.\n",
    "def get_latency_metrics(time: pd.Series, dataframe: pd.DataFrame) -> pd.DataFrame: \n",
    "    latencies = pd.DataFrame(data = [li for li in dataframe[\"latencies\"]])\n",
    "    mean_latencies = pd.Series(name=\"mean\", data = [(la.mean() / 1000000) for la in latencies.iloc])\n",
    "    \n",
    "    latency = pd.concat([time, dataframe['latency'], mean_latencies], axis=1)\n",
    "    latency = latency.set_index('time')\n",
    "    \n",
    "    for key, value in latency['latency'][0].items():\n",
    "        latency[key] = latency['latency'].apply(lambda object: object[key])\n",
    "  \n",
    "    latency = latency.drop(columns=['latency', 'p99'])\n",
    "    return latency[['mean', 'max', 'p95', 'median', 'min']]"
   ]
  },
  {
   "cell_type": "code",
   "execution_count": 7,
   "id": "ede5394d-faeb-4adb-b49a-b6640c9205d3",
   "metadata": {},
   "outputs": [
    {
     "name": "stdout",
     "output_type": "stream",
     "text": [
      "93.36898287812491\n",
      "93.28440738896431\n",
      "92.86481251061579\n"
     ]
    }
   ],
   "source": [
    "latencyA = get_latency_metrics(time, MI2.loc[1])\n",
    "latencyB = get_latency_metrics(time, MI2.loc[2])\n",
    "latencyC = get_latency_metrics(time, MI2.loc[3])\n",
    "\n",
    "print(latencyA['mean'].mean())\n",
    "print(latencyB['mean'].mean())\n",
    "print(latencyC['mean'].mean())"
   ]
  },
  {
   "cell_type": "code",
   "execution_count": 13,
   "id": "e9f74ff6-03dd-46e0-8c43-5fe71c9acceb",
   "metadata": {},
   "outputs": [],
   "source": [
    " def get_concurency(time: pd.Series, dataframe: pd.DataFrame) -> pd.DataFrame:\n",
    "    concurency = pd.concat([time, dataframe['concurrency']], axis=1)\n",
    "    concurency['concurrency'] = gaussian_filter1d(sigma=0.3, input=concurency['concurrency'])\n",
    "    return concurency.set_index('time')"
   ]
  },
  {
   "cell_type": "code",
   "execution_count": 20,
   "id": "97bce1f1-8693-4ee3-b416-a882f6e27adb",
   "metadata": {},
   "outputs": [],
   "source": [
    "concurrencyA = get_concurency(time, MI2.loc[1])\n",
    "concurrencyB = get_concurency(time, MI2.loc[2])\n",
    "concurrencyC = get_concurency(time, MI2.loc[3])"
   ]
  },
  {
   "cell_type": "code",
   "execution_count": 21,
   "id": "d851826d-a72c-4aa0-990a-ebec260a8384",
   "metadata": {},
   "outputs": [
    {
     "data": {
      "text/plain": [
       "<matplotlib.legend.Legend at 0x7f0e3ee085e0>"
      ]
     },
     "execution_count": 21,
     "metadata": {},
     "output_type": "execute_result"
    },
    {
     "data": {
      "image/png": "[encoded data removed]",
      "text/plain": [
       "<Figure size 1440x576 with 1 Axes>"
      ]
     },
     "metadata": {
      "needs_background": "light"
     },
     "output_type": "display_data"
    }
   ],
   "source": [
    "figure, row = pyplot.subplots(\n",
    "    nrows=1,\n",
    "    ncols=1,\n",
    "    figsize=(20,8)\n",
    ")\n",
    "\n",
    "# Label settings\n",
    "\n",
    "figure.subplots_adjust(wspace=0.08) # hspace=0\n",
    "\n",
    "row.set_title('A', y=1.1)\n",
    "\n",
    "row.set_ylabel('Concurrency (VU)', labelpad=35)\n",
    "\n",
    "row.set_xlabel('Zeit (s)', labelpad=30)\n",
    "\n",
    "# Actual plot.\n",
    "\n",
    "latency_plot = seaborn.lineplot(\n",
    "    ax=row,\n",
    "    dashes=False,\n",
    "    legend=False,\n",
    "    data=concurrencyA,\n",
    ")\n",
    "\n",
    "#latency_plot.axes.set_yscale('log')\n",
    "\n",
    "# Grid settings.\n",
    "seaborn.despine(\n",
    "    left=True,\n",
    "    bottom=True\n",
    ")\n",
    "\n",
    "# Legend settings.\n",
    "latency_plot.legend(\n",
    "    loc=2,\n",
    "    frameon=False,\n",
    "    framealpha=1.0,\n",
    "    borderaxespad=0.0,\n",
    "    bbox_to_anchor=(1.02, 1),\n",
    "    labels=['Concurrency'],\n",
    ")"
   ]
  },
  {
   "cell_type": "code",
   "execution_count": null,
   "id": "41295202-4a5b-4d99-ae74-62a3b2b7196b",
   "metadata": {},
   "outputs": [],
   "source": []
  }
 ],
 "metadata": {
  "kernelspec": {
   "display_name": "Python 3",
   "language": "python",
   "name": "python3"
  },
  "language_info": {
   "codemirror_mode": {
    "name": "ipython",
    "version": 3
   },
   "file_extension": ".py",
   "mimetype": "text/x-python",
   "name": "python",
   "nbconvert_exporter": "python",
   "pygments_lexer": "ipython3",
   "version": "3.8.8"
  }
 },
 "nbformat": 4,
 "nbformat_minor": 5
}
