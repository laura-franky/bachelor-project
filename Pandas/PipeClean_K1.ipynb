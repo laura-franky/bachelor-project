{
 "cells": [
  {
   "cell_type": "code",
   "execution_count": 82,
   "id": "fc0e868e-4e0a-4b35-8645-9ea1b54eb4f7",
   "metadata": {},
   "outputs": [],
   "source": [
    "import pandas as pd\n",
    "# Konfig 1\n",
    "K1MI1A = pd.read_json(\"Data/PipeClean/K1/MI1A.json\")\n",
    "K1MI1B = pd.read_json(\"Data/PipeClean/K1/MI1B.json\")\n",
    "K1MI2A = pd.read_json(\"Data/PipeClean/K1/MI2A.json\")\n",
    "K1MI2B = pd.read_json(\"Data/PipeClean/K1/MI2B.json\")\n",
    "\n",
    "# Konfig 2\n",
    "K2MI1A = pd.read_json(\"Data/PipeClean/K2/MI1A.json\")\n",
    "K2MI1B = pd.read_json(\"Data/PipeClean/K2/MI1B.json\")\n",
    "K2MI2A = pd.read_json(\"Data/PipeClean/K2/MI2A.json\")\n",
    "# K2MI2B = pd.read_json(\"Data/PipeClean/K2/MI2B.json\")"
   ]
  },
  {
   "cell_type": "code",
   "execution_count": 83,
   "id": "9acc212c-c27d-44fd-a131-4299658c1d1a",
   "metadata": {},
   "outputs": [],
   "source": [
    "unused_columns = [\n",
    "    'scenariosCreated', 'scenariosCompleted', 'scenarioDuration', 'scenarioCounts', 'codes', 'matches', 'customStats', 'counters', 'scenariosAvoided'\n",
    "]\n",
    "    \n",
    "K1MI1A = K1MI1A.drop(columns=unused_columns)\n",
    "K1MI1B = K1MI1B.drop(columns=unused_columns)\n",
    "K1MI2A = K1MI2A.drop(columns=unused_columns)\n",
    "K1MI2B = K1MI2B.drop(columns=unused_columns)"
   ]
  }
 ],
 "metadata": {
  "kernelspec": {
   "display_name": "Python 3",
   "language": "python",
   "name": "python3"
  },
  "language_info": {
   "codemirror_mode": {
    "name": "ipython",
    "version": 3
   },
   "file_extension": ".py",
   "mimetype": "text/x-python",
   "name": "python",
   "nbconvert_exporter": "python",
   "pygments_lexer": "ipython3",
   "version": "3.8.8"
  }
 },
 "nbformat": 4,
 "nbformat_minor": 5
}
