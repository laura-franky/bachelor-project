{
 "cells": [
  {
   "cell_type": "code",
   "execution_count": null,
   "id": "8a91b731-477d-44d7-af34-10546f1286f5",
   "metadata": {},
   "outputs": [],
   "source": [
    "import pandas as pd\n",
    "import seaborn\n",
    "\n",
    "MI2A = pd.read_json(\"../Data/StressTest/50000_VU/Konfig1MinInst2_StressTest_50000VU_A_report1.json\")\n",
    "\n",
    "\n",
    "print(MI2A[\"concurrency\"].max())"
   ]
  }
 ],
 "metadata": {
  "kernelspec": {
   "display_name": "Python 3",
   "language": "python",
   "name": "python3"
  },
  "language_info": {
   "codemirror_mode": {
    "name": "ipython",
    "version": 3
   },
   "file_extension": ".py",
   "mimetype": "text/x-python",
   "name": "python",
   "nbconvert_exporter": "python",
   "pygments_lexer": "ipython3",
   "version": "3.8.8"
  }
 },
 "nbformat": 4,
 "nbformat_minor": 5
}
