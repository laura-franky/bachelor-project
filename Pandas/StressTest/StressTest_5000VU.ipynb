{
 "cells": [
  {
   "cell_type": "code",
   "execution_count": 8,
   "id": "fda2f391-e7b0-4343-9aff-ae4ff35e080f",
   "metadata": {},
   "outputs": [
    {
     "name": "stdout",
     "output_type": "stream",
     "text": [
      "870\n"
     ]
    }
   ],
   "source": [
    "import pandas as pd\n",
    "import seaborn\n",
    "\n",
    "MI2A = pd.read_json(\"../Data/StressTest/5000_VU/Konfig1MinInst2_StressTest_5000VU_A_report1.json\")\n",
    "\n",
    "\n",
    "print(MI2A[\"concurrency\"].max())"
   ]
  },
  {
   "cell_type": "code",
   "execution_count": null,
   "id": "ca1fc02b-e5d6-47f6-887d-cef0ee017b04",
   "metadata": {},
   "outputs": [],
   "source": []
  }
 ],
 "metadata": {
  "kernelspec": {
   "display_name": "Python 3",
   "language": "python",
   "name": "python3"
  },
  "language_info": {
   "codemirror_mode": {
    "name": "ipython",
    "version": 3
   },
   "file_extension": ".py",
   "mimetype": "text/x-python",
   "name": "python",
   "nbconvert_exporter": "python",
   "pygments_lexer": "ipython3",
   "version": "3.8.8"
  }
 },
 "nbformat": 4,
 "nbformat_minor": 5
}
