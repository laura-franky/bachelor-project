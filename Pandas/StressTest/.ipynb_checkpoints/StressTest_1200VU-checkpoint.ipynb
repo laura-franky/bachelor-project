{
 "cells": [
  {
   "cell_type": "code",
   "execution_count": 3,
   "id": "880987a4-4335-41d1-8452-137ff13f7e22",
   "metadata": {},
   "outputs": [],
   "source": [
    "import pandas as pd\n",
    "import seaborn\n",
    "\n",
    "MI2A_1 = pd.read_json(\"Data/StressTest/1200_VU/Konfig1MinInst2_StressTest_1200VU_A_report1.json\")\n",
    "MI2A_2 = pd.read_json(\"Data/StressTest/1200_VU/Konfig1MinInst2_StressTest_1200VU_A_report2.json\")"
   ]
  },
  {
   "cell_type": "code",
   "execution_count": 4,
   "id": "9adb9cba-7301-4910-bde0-0e4b62c9177c",
   "metadata": {},
   "outputs": [
    {
     "name": "stdout",
     "output_type": "stream",
     "text": [
      "824\n",
      "848\n"
     ]
    }
   ],
   "source": [
    "unused_columns = [\n",
    "    'scenariosCreated', 'scenariosCompleted', 'scenarioDuration', 'scenarioCounts', 'codes', 'matches', 'customStats', 'counters', 'scenariosAvoided', 'pendingRequests'\n",
    "]\n",
    "    \n",
    "MI2A_1 = MI2A_1.drop(columns=unused_columns)\n",
    "MI2A_2 = MI2A_2.drop(columns=unused_columns)\n",
    "\n",
    "print(MI2A_1[\"concurrency\"].max())\n",
    "print(MI2A_2[\"concurrency\"].max())"
   ]
  }
 ],
 "metadata": {
  "kernelspec": {
   "display_name": "Python 3",
   "language": "python",
   "name": "python3"
  },
  "language_info": {
   "codemirror_mode": {
    "name": "ipython",
    "version": 3
   },
   "file_extension": ".py",
   "mimetype": "text/x-python",
   "name": "python",
   "nbconvert_exporter": "python",
   "pygments_lexer": "ipython3",
   "version": "3.8.8"
  }
 },
 "nbformat": 4,
 "nbformat_minor": 5
}
