{
 "cells": [
  {
   "cell_type": "code",
   "execution_count": 27,
   "id": "2cb95c43-676f-4cb2-b5e2-3f4a10c05c45",
   "metadata": {},
   "outputs": [],
   "source": [
    "import pandas as pd\n",
    "import seaborn\n",
    "MI1A = pd.read_json(\"Data/StressTest/600_VU/MI1A.json\")\n",
    "MI1B = pd.read_json(\"Data/StressTest/600_VU/MI1B.json\")\n",
    "MI2A = pd.read_json(\"Data/StressTest/600_VU/MI2A.json\")\n",
    "MI2B = pd.read_json(\"Data/StressTest/600_VU/MI2B.json\")"
   ]
  },
  {
   "cell_type": "code",
   "execution_count": 28,
   "id": "eb7e60ed-7302-4678-9bd5-b0c5efa178cb",
   "metadata": {},
   "outputs": [
    {
     "name": "stdout",
     "output_type": "stream",
     "text": [
      "882\n",
      "1137\n",
      "890\n",
      "1134\n"
     ]
    }
   ],
   "source": [
    "unused_columns = [\n",
    "    'scenariosCreated', 'scenariosCompleted', 'scenarioDuration', 'scenarioCounts', 'codes', 'matches', 'customStats', 'counters', 'scenariosAvoided', 'pendingRequests'\n",
    "]\n",
    "    \n",
    "MI1A = MI1A.drop(columns=unused_columns)\n",
    "MI1B = MI1B.drop(columns=unused_columns)\n",
    "MI2A = MI2A.drop(columns=unused_columns)\n",
    "MI2B = MI2B.drop(columns=unused_columns)\n",
    "\n",
    "print(MI1A[\"concurrency\"].max())\n",
    "print(MI1B[\"concurrency\"].max())\n",
    "print(MI2A[\"concurrency\"].max())\n",
    "print(MI2B[\"concurrency\"].max())\n"
   ]
  },
  {
   "cell_type": "code",
   "execution_count": null,
   "id": "9c1c5963-c9d6-4832-a949-207dc98cd2f7",
   "metadata": {},
   "outputs": [],
   "source": []
  }
 ],
 "metadata": {
  "kernelspec": {
   "display_name": "Python 3",
   "language": "python",
   "name": "python3"
  },
  "language_info": {
   "codemirror_mode": {
    "name": "ipython",
    "version": 3
   },
   "file_extension": ".py",
   "mimetype": "text/x-python",
   "name": "python",
   "nbconvert_exporter": "python",
   "pygments_lexer": "ipython3",
   "version": "3.8.8"
  }
 },
 "nbformat": 4,
 "nbformat_minor": 5
}
