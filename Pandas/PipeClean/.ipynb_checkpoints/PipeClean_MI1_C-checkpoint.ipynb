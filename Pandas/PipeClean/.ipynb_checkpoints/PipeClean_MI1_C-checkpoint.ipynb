{
 "cells": [
  {
   "cell_type": "code",
   "execution_count": 1,
   "id": "2386ae56-3d11-4a99-aa11-b64f48827a70",
   "metadata": {},
   "outputs": [],
   "source": [
    "import pandas as pd\n",
    "import seaborn\n",
    "# Konfig 1\n",
    "MI1C = pd.read_json(\"../Data/PipeClean/MI1C.json\")"
   ]
  },
  {
   "cell_type": "code",
   "execution_count": 2,
   "id": "95e5dd38-4906-4220-895d-0293c2e6f6a5",
   "metadata": {},
   "outputs": [],
   "source": [
    "unused_columns = [\n",
    "    'scenariosCreated', 'scenariosCompleted', 'scenarioDuration', 'scenarioCounts', 'codes', 'matches', 'customStats', 'counters', 'scenariosAvoided', 'pendingRequests'\n",
    "]\n",
    "    \n",
    "MI1C = MI1C.drop(columns=unused_columns)"
   ]
  },
  {
   "cell_type": "code",
   "execution_count": 3,
   "id": "a363efb0-ad48-457b-bc98-13a38f739161",
   "metadata": {},
   "outputs": [],
   "source": [
    "report1 = pd.DataFrame(MI1C[0:61])\n",
    "report2 = pd.DataFrame(MI1C[61:122])\n",
    "report3 = pd.DataFrame(MI1C[122:183])\n",
    "report4 = pd.DataFrame(MI1C[183:244])\n",
    "report5 = pd.DataFrame(MI1C[244:305])"
   ]
  },
  {
   "cell_type": "code",
   "execution_count": 6,
   "id": "d88d028e-0abc-48e9-a7a4-fdc9fa64baf0",
   "metadata": {},
   "outputs": [
    {
     "data": {
      "text/plain": [
       "95.69166666666668"
      ]
     },
     "execution_count": 6,
     "metadata": {},
     "output_type": "execute_result"
    }
   ],
   "source": [
    "counter = 0\n",
    "allLatencies = 0\n",
    "\n",
    "for li in report2[\"latencies\"]:\n",
    "    for latency in li:\n",
    "        counter = counter + 1\n",
    "        allLatencies = allLatencies + latency\n",
    "\n",
    "meanLatency = allLatencies / counter \n",
    "meanLatency / 1000000"
   ]
  },
  {
   "cell_type": "code",
   "execution_count": null,
   "id": "40b24883-ae52-49da-a5a9-788a95bc675e",
   "metadata": {},
   "outputs": [],
   "source": []
  }
 ],
 "metadata": {
  "kernelspec": {
   "display_name": "Python 3",
   "language": "python",
   "name": "python3"
  },
  "language_info": {
   "codemirror_mode": {
    "name": "ipython",
    "version": 3
   },
   "file_extension": ".py",
   "mimetype": "text/x-python",
   "name": "python",
   "nbconvert_exporter": "python",
   "pygments_lexer": "ipython3",
   "version": "3.8.8"
  }
 },
 "nbformat": 4,
 "nbformat_minor": 5
}
