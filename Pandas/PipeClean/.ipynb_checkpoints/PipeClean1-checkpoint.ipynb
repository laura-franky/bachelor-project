{
 "cells": [
  {
   "cell_type": "code",
   "execution_count": 1,
   "id": "816ee9fa-e11f-4712-b73b-1551c4d92e70",
   "metadata": {},
   "outputs": [],
   "source": [
    "import pandas as pd\n",
    "import seaborn\n",
    "# Konfig 1\n",
    "K1MI1A = pd.read_json(\"Data/PipeClean/MI1A.json\")\n",
    "K1MI1B = pd.read_json(\"Data/PipeClean/MI1B.json\")\n",
    "K1MI2A = pd.read_json(\"Data/PipeClean/MI2A.json\")\n",
    "K1MI2B = pd.read_json(\"Data/PipeClean/MI2B.json\")\n",
    "\n",
    "# Konfig 2\n",
    "# K2MI1A = pd.read_json(\"Data/PipeClean/K2/MI1A.json\")\n",
    "# K2MI1B = pd.read_json(\"Data/PipeClean/K2/MI1B.json\")\n",
    "# K2MI2A = pd.read_json(\"Data/PipeClean/K2/MI2A.json\")\n",
    "# K2MI2B = pd.read_json(\"Data/PipeClean/K2/MI2B.json\")"
   ]
  },
  {
   "cell_type": "code",
   "execution_count": 2,
   "id": "c2985160-d619-4910-9eb2-d064441bafe8",
   "metadata": {},
   "outputs": [],
   "source": [
    "unused_columns = [\n",
    "    'scenariosCreated', 'scenariosCompleted', 'scenarioDuration', 'scenarioCounts', 'codes', 'matches', 'customStats', 'counters', 'scenariosAvoided', 'pendingRequests'\n",
    "]\n",
    "    \n",
    "K1MI1A = K1MI1A.drop(columns=unused_columns)\n",
    "K1MI1B = K1MI1B.drop(columns=unused_columns)\n",
    "K1MI2A = K1MI2A.drop(columns=unused_columns)\n",
    "K1MI2B = K1MI2B.drop(columns=unused_columns)"
   ]
  },
  {
   "cell_type": "code",
   "execution_count": 3,
   "id": "1acbd87f-8d1d-47c6-a3d5-a1af76480c13",
   "metadata": {},
   "outputs": [],
   "source": [
    "# Conver the timestamps to a time series with 10 seconds steps.\n",
    "\n",
    "def get_time_series(dataframe: pd.DataFrame) -> pd.Series:\n",
    "    number_of_rows = len(dataframe.index)\n",
    "\n",
    "    return pd.Series(\n",
    "        name='time',\n",
    "        data=[element * 10 for element in range(number_of_rows)]\n",
    "    )\n",
    "\n",
    "time = get_time_series(K1MI1A)"
   ]
  },
  {
   "cell_type": "code",
   "execution_count": 4,
   "id": "15b2cba6-4205-4378-b649-1edd44536853",
   "metadata": {},
   "outputs": [],
   "source": [
    "# Create the latency dataframe.\n",
    "def get_latency_metrics(time: pd.Series, dataframe: pd.DataFrame) -> pd.DataFrame:\n",
    "    latency = pd.concat([time, dataframe['latency']], axis=1)\n",
    "    latency = latency.set_index('time')\n",
    "\n",
    "    for key, value in latency['latency'][0].items():\n",
    "        latency[key] = latency['latency'].apply(lambda object: object[key])\n",
    "\n",
    "    latency = latency.drop(columns=['latency', 'p99'])\n",
    "\n",
    "    return latency[['max', 'p95', 'median', 'min']]\n",
    "\n",
    "latency = get_latency_metrics(time, K1MI1A)"
   ]
  },
  {
   "cell_type": "code",
   "execution_count": 5,
   "id": "ec107bf6-cea8-4dd6-b84e-e2c1cba718ab",
   "metadata": {},
   "outputs": [],
   "source": [
    "concurrency = pd.concat([time, K1MI1A['concurrency']], axis=1)\n",
    "concurrency = concurrency.set_index('time')"
   ]
  },
  {
   "cell_type": "code",
   "execution_count": null,
   "id": "b5587fa9-d3fd-4892-8b39-fc403b827268",
   "metadata": {},
   "outputs": [],
   "source": []
  }
 ],
 "metadata": {
  "kernelspec": {
   "display_name": "Python 3",
   "language": "python",
   "name": "python3"
  },
  "language_info": {
   "codemirror_mode": {
    "name": "ipython",
    "version": 3
   },
   "file_extension": ".py",
   "mimetype": "text/x-python",
   "name": "python",
   "nbconvert_exporter": "python",
   "pygments_lexer": "ipython3",
   "version": "3.8.8"
  }
 },
 "nbformat": 4,
 "nbformat_minor": 5
}
