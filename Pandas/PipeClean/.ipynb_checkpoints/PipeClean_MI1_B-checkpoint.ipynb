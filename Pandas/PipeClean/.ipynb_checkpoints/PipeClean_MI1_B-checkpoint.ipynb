{
 "cells": [
  {
   "cell_type": "code",
   "execution_count": 21,
   "id": "38ed973f-3cff-4aaa-8b17-3dcd478b0d3b",
   "metadata": {},
   "outputs": [],
   "source": [
    "import pandas as pd\n",
    "import seaborn\n",
    "# Konfig 1\n",
    "MI1B = pd.read_json(\"../Data/PipeClean/MI1B.json\")"
   ]
  },
  {
   "cell_type": "code",
   "execution_count": 22,
   "id": "a44f857c-8d50-4dc3-8199-0e6316bb2a78",
   "metadata": {},
   "outputs": [],
   "source": [
    "unused_columns = [\n",
    "    'scenariosCreated', 'scenariosCompleted', 'scenarioDuration', 'scenarioCounts', 'codes', 'matches', 'customStats', 'counters', 'scenariosAvoided', 'pendingRequests'\n",
    "]\n",
    "    \n",
    "MI1B = MI1B.drop(columns=unused_columns)"
   ]
  },
  {
   "cell_type": "code",
   "execution_count": 26,
   "id": "daaed32c-c69c-42c3-8136-eac635eb0195",
   "metadata": {},
   "outputs": [],
   "source": [
    "report1 = pd.DataFrame(MI1B[0:61])\n",
    "report2 = pd.DataFrame(MI1B[61:122])\n",
    "report3 = pd.DataFrame(MI1B[122:183])\n",
    "report4 = pd.DataFrame(MI1B[183:244])\n",
    "report5 = pd.DataFrame(MI1B[244:305])"
   ]
  },
  {
   "cell_type": "code",
   "execution_count": 27,
   "id": "9f860d56-a826-4a4a-a155-4ff71e133bbe",
   "metadata": {},
   "outputs": [
    {
     "data": {
      "text/plain": [
       "93.24166666666667"
      ]
     },
     "execution_count": 27,
     "metadata": {},
     "output_type": "execute_result"
    }
   ],
   "source": [
    "counter = 0\n",
    "allLatencies = 0\n",
    "\n",
    "for li in report2[\"latencies\"]:\n",
    "    for latency in li:\n",
    "        counter = counter + 1\n",
    "        allLatencies = allLatencies + latency\n",
    "\n",
    "meanLatency = allLatencies /  counter \n",
    "meanLatency / 1000000"
   ]
  },
  {
   "cell_type": "code",
   "execution_count": null,
   "id": "08bbbf98-034b-4a27-b0b1-9e6fb6955511",
   "metadata": {},
   "outputs": [],
   "source": []
  },
  {
   "cell_type": "code",
   "execution_count": null,
   "id": "8b102f33-785c-44d4-a42a-bd8578f049c2",
   "metadata": {},
   "outputs": [],
   "source": []
  }
 ],
 "metadata": {
  "kernelspec": {
   "display_name": "Python 3",
   "language": "python",
   "name": "python3"
  },
  "language_info": {
   "codemirror_mode": {
    "name": "ipython",
    "version": 3
   },
   "file_extension": ".py",
   "mimetype": "text/x-python",
   "name": "python",
   "nbconvert_exporter": "python",
   "pygments_lexer": "ipython3",
   "version": "3.8.8"
  }
 },
 "nbformat": 4,
 "nbformat_minor": 5
}
