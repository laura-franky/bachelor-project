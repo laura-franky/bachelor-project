{
 "cells": [
  {
   "cell_type": "code",
   "execution_count": 8,
   "id": "8d163c7d-0179-4cf8-895c-9d4f2aec818c",
   "metadata": {},
   "outputs": [],
   "source": [
    "import pandas as pd\n",
    "import seaborn\n",
    "# Konfig 1\n",
    "MI1A = pd.read_json(\"Data/PipeClean/MI1A.json\")"
   ]
  },
  {
   "cell_type": "code",
   "execution_count": 9,
   "id": "d06d1a8a-7056-4ea4-b52f-5beb8f1df3d1",
   "metadata": {},
   "outputs": [],
   "source": [
    "unused_columns = [\n",
    "    'scenariosCreated', 'scenariosCompleted', 'scenarioDuration', 'scenarioCounts', 'codes', 'matches', 'customStats', 'counters', 'scenariosAvoided', 'pendingRequests'\n",
    "]\n",
    "    \n",
    "MI1A = MI1A.drop(columns=unused_columns)"
   ]
  },
  {
   "cell_type": "code",
   "execution_count": 11,
   "id": "4a7e4cff-f7ba-4f6e-a5f7-a2d1076cb54a",
   "metadata": {},
   "outputs": [
    {
     "name": "stdout",
     "output_type": "stream",
     "text": [
      "1.9672131147540983\n"
     ]
    }
   ],
   "source": [
    "print(MI1A[\"concurrency\"].max())"
   ]
  },
  {
   "cell_type": "code",
   "execution_count": null,
   "id": "e1e36cc3-92a7-4230-b943-49a79bb16ece",
   "metadata": {},
   "outputs": [],
   "source": []
  }
 ],
 "metadata": {
  "kernelspec": {
   "display_name": "Python 3",
   "language": "python",
   "name": "python3"
  },
  "language_info": {
   "codemirror_mode": {
    "name": "ipython",
    "version": 3
   },
   "file_extension": ".py",
   "mimetype": "text/x-python",
   "name": "python",
   "nbconvert_exporter": "python",
   "pygments_lexer": "ipython3",
   "version": "3.8.8"
  }
 },
 "nbformat": 4,
 "nbformat_minor": 5
}
