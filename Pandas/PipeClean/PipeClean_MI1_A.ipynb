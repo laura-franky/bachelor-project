{
 "cells": [
  {
   "cell_type": "code",
   "execution_count": 1,
   "id": "8d163c7d-0179-4cf8-895c-9d4f2aec818c",
   "metadata": {},
   "outputs": [],
   "source": [
    "import pandas as pd\n",
    "import seaborn\n",
    "# Konfig 1\n",
    "MI1A = pd.read_json(\"../Data/PipeClean/MI1A.json\")"
   ]
  },
  {
   "cell_type": "code",
   "execution_count": 2,
   "id": "d06d1a8a-7056-4ea4-b52f-5beb8f1df3d1",
   "metadata": {},
   "outputs": [],
   "source": [
    "unused_columns = [\n",
    "    'scenariosCreated', 'scenariosCompleted', 'scenarioDuration', 'scenarioCounts', 'codes', 'matches', 'customStats', 'counters', 'scenariosAvoided', 'pendingRequests'\n",
    "]\n",
    "    \n",
    "MI1A = MI1A.drop(columns=unused_columns)"
   ]
  },
  {
   "cell_type": "code",
   "execution_count": 5,
   "id": "4a7e4cff-f7ba-4f6e-a5f7-a2d1076cb54a",
   "metadata": {},
   "outputs": [
    {
     "name": "stdout",
     "output_type": "stream",
     "text": [
      "244    [96000000, 92000000, 353000000, 94000000, 9200...\n",
      "245    [93000000, 91000000, 92000000, 92000000, 91000...\n",
      "246    [92000000, 92000000, 93000000, 92000000, 91000...\n",
      "247    [155000000, 94000000, 92000000, 92000000, 9300...\n",
      "248    [93000000, 91000000, 93000000, 93000000, 92000...\n",
      "                             ...                        \n",
      "300    [93000000, 91000000, 93000000, 91000000, 91000...\n",
      "301    [92000000, 155000000, 91000000, 93000000, 9200...\n",
      "302    [93000000, 91000000, 154000000, 94000000, 9200...\n",
      "303    [91000000, 93000000, 92000000, 91000000, 92000...\n",
      "304                                           [92000000]\n",
      "Name: latencies, Length: 61, dtype: object\n",
      "183    [94000000, 92000000, 93000000, 94000000, 91000...\n",
      "184    [93000000, 92000000, 93000000, 93000000, 91000...\n",
      "185    [92000000, 92000000, 93000000, 91000000, 25700...\n",
      "186    [92000000, 93000000, 91000000, 92000000, 94000...\n",
      "187    [93000000, 92000000, 91000000, 158000000, 9100...\n",
      "                             ...                        \n",
      "239    [92000000, 92000000, 92000000, 91000000, 93000...\n",
      "240    [259000000, 92000000, 92000000, 158000000, 930...\n",
      "241    [93000000, 92000000, 93000000, 92000000, 92000...\n",
      "242    [91000000, 93000000, 92000000, 91000000, 93000...\n",
      "243                                          [257000000]\n",
      "Name: latencies, Length: 61, dtype: object\n"
     ]
    }
   ],
   "source": [
    "report1 = pd.Series(MI1A[\"latencies\"][0:61])\n",
    "report2 = pd.Series(MI1A[\"latencies\"][61:122])\n",
    "report3 = pd.Series(MI1A[\"latencies\"][122:183])\n",
    "report4 = pd.Series(MI1A[\"latencies\"][183:244])\n",
    "report5 = pd.Series(MI1A[\"latencies\"][244:305])"
   ]
  },
  {
   "cell_type": "code",
   "execution_count": null,
   "id": "e1e36cc3-92a7-4230-b943-49a79bb16ece",
   "metadata": {},
   "outputs": [],
   "source": []
  },
  {
   "cell_type": "code",
   "execution_count": null,
   "id": "015f5c64-d548-4078-9a86-f0260cbfc0fa",
   "metadata": {},
   "outputs": [],
   "source": []
  }
 ],
 "metadata": {
  "kernelspec": {
   "display_name": "Python 3",
   "language": "python",
   "name": "python3"
  },
  "language_info": {
   "codemirror_mode": {
    "name": "ipython",
    "version": 3
   },
   "file_extension": ".py",
   "mimetype": "text/x-python",
   "name": "python",
   "nbconvert_exporter": "python",
   "pygments_lexer": "ipython3",
   "version": "3.8.8"
  }
 },
 "nbformat": 4,
 "nbformat_minor": 5
}
